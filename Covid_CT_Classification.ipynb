{
  "nbformat": 4,
  "nbformat_minor": 0,
  "metadata": {
    "colab": {
      "name": "MLP_DL.ipynb",
      "provenance": [],
      "collapsed_sections": []
    },
    "kernelspec": {
      "name": "python3",
      "display_name": "Python 3"
    },
    "language_info": {
      "name": "python"
    }
  },
  "cells": [
    {
      "cell_type": "code",
      "metadata": {
        "id": "xHW6APGEc7bV",
        "colab": {
          "base_uri": "https://localhost:8080/"
        },
        "outputId": "c7208e6c-7b6f-4de1-d9af-83a12ffb98d9"
      },
      "source": [
        "!pip install ipython-autotime\n",
        "import os \n",
        "import numpy as np\n",
        "import matplotlib.pyplot as plt\n",
        "import cv2 as cv\n",
        "from sklearn import metrics\n",
        "from sklearn.neural_network import MLPClassifier\n",
        "import pickle"
      ],
      "execution_count": 3,
      "outputs": [
        {
          "output_type": "stream",
          "text": [
            "Requirement already satisfied: ipython-autotime in /usr/local/lib/python3.7/dist-packages (0.3.1)\n",
            "Requirement already satisfied: ipython in /usr/local/lib/python3.7/dist-packages (from ipython-autotime) (5.5.0)\n",
            "Requirement already satisfied: decorator in /usr/local/lib/python3.7/dist-packages (from ipython->ipython-autotime) (4.4.2)\n",
            "Requirement already satisfied: pexpect; sys_platform != \"win32\" in /usr/local/lib/python3.7/dist-packages (from ipython->ipython-autotime) (4.8.0)\n",
            "Requirement already satisfied: pickleshare in /usr/local/lib/python3.7/dist-packages (from ipython->ipython-autotime) (0.7.5)\n",
            "Requirement already satisfied: pygments in /usr/local/lib/python3.7/dist-packages (from ipython->ipython-autotime) (2.6.1)\n",
            "Requirement already satisfied: simplegeneric>0.8 in /usr/local/lib/python3.7/dist-packages (from ipython->ipython-autotime) (0.8.1)\n",
            "Requirement already satisfied: setuptools>=18.5 in /usr/local/lib/python3.7/dist-packages (from ipython->ipython-autotime) (56.1.0)\n",
            "Requirement already satisfied: traitlets>=4.2 in /usr/local/lib/python3.7/dist-packages (from ipython->ipython-autotime) (5.0.5)\n",
            "Requirement already satisfied: prompt-toolkit<2.0.0,>=1.0.4 in /usr/local/lib/python3.7/dist-packages (from ipython->ipython-autotime) (1.0.18)\n",
            "Requirement already satisfied: ptyprocess>=0.5 in /usr/local/lib/python3.7/dist-packages (from pexpect; sys_platform != \"win32\"->ipython->ipython-autotime) (0.7.0)\n",
            "Requirement already satisfied: ipython-genutils in /usr/local/lib/python3.7/dist-packages (from traitlets>=4.2->ipython->ipython-autotime) (0.2.0)\n",
            "Requirement already satisfied: six>=1.9.0 in /usr/local/lib/python3.7/dist-packages (from prompt-toolkit<2.0.0,>=1.0.4->ipython->ipython-autotime) (1.15.0)\n",
            "Requirement already satisfied: wcwidth in /usr/local/lib/python3.7/dist-packages (from prompt-toolkit<2.0.0,>=1.0.4->ipython->ipython-autotime) (0.2.5)\n"
          ],
          "name": "stdout"
        }
      ]
    },
    {
      "cell_type": "code",
      "metadata": {
        "id": "m5xMpkh3dXzM"
      },
      "source": [
        "#Loading Training Dataset\n",
        "labels = []\n",
        "images = []\n",
        "flatten_images = []\n",
        "DIR = '/content/drive/MyDrive/Dataset/Train'\n",
        "CATEGORIES = ['COVID','Non-COVID']\n",
        "\n",
        "for category in CATEGORIES:\n",
        "  path = os.path.join(DIR,category)\n",
        "  label = CATEGORIES.index(category)\n",
        "\n",
        "  for image in os.listdir(path):\n",
        "    image_path = os.path.join(path,image)\n",
        "    image_array = cv.imread(image_path)\n",
        "    image_array = cv.normalize(image_array, image_array, 0, 1, cv.NORM_MINMAX)\n",
        "    flatten_images.append(image_array.flatten())\n",
        "    images.append(image_array)\n",
        "    labels.append(label)\n",
        "\n",
        "flatten_images = np.array(flatten_images)\n",
        "labels = np.array(labels)"
      ],
      "execution_count": 4,
      "outputs": []
    },
    {
      "cell_type": "code",
      "metadata": {
        "id": "i-EeqJXaeDq9"
      },
      "source": [
        "#Loading Test Dataset\n",
        "test_labels = []\n",
        "test_images = []\n",
        "test_flatten_images = []\n",
        "DIR = '/content/drive/MyDrive/Dataset/Test'\n",
        "CATEGORIES = ['COVID','Non-COVID']\n",
        "\n",
        "for category in CATEGORIES:\n",
        "  path = os.path.join(DIR,category)\n",
        "  label = CATEGORIES.index(category)\n",
        "\n",
        "  for image in os.listdir(path):\n",
        "    image_path = os.path.join(path,image)\n",
        "    image_array = cv.imread(image_path)\n",
        "    image_array = cv.normalize(image_array, image_array, 0, 1, cv.NORM_MINMAX)\n",
        "    test_flatten_images.append(image_array.flatten())\n",
        "    test_images.append(image_array)\n",
        "    test_labels.append(label)\n",
        "\n",
        "test_flatten_images = np.array(test_flatten_images)\n",
        "test_labels = np.array(test_labels) "
      ],
      "execution_count": 5,
      "outputs": []
    },
    {
      "cell_type": "code",
      "metadata": {
        "id": "VVQ1gFMJdc4r"
      },
      "source": [
        "x_train = flatten_images\n",
        "y_train = labels\n",
        "x_test = test_flatten_images\n",
        "y_test = test_labels"
      ],
      "execution_count": 7,
      "outputs": []
    },
    {
      "cell_type": "code",
      "metadata": {
        "id": "dW4Ms_3Gdhxb"
      },
      "source": [
        "model = MLPClassifier(hidden_layer_sizes=(100,100,100),activation='relu',solver='sgd',max_iter=30,verbose=True,shuffle=True,momentum=0.5,early_stopping=True)\n",
        "model.fit(x_train, y_train)"
      ],
      "execution_count": null,
      "outputs": []
    },
    {
      "cell_type": "code",
      "metadata": {
        "id": "CmlogcPbGIst"
      },
      "source": [
        "pickle.dump(grid,open('MLP_DL.p','wb'))"
      ],
      "execution_count": null,
      "outputs": []
    },
    {
      "cell_type": "code",
      "metadata": {
        "id": "CaZfhkBVdmTn"
      },
      "source": [
        "y_pred = model.predict(x_test)"
      ],
      "execution_count": 18,
      "outputs": []
    },
    {
      "cell_type": "code",
      "metadata": {
        "id": "stZccCEPdsKf",
        "colab": {
          "base_uri": "https://localhost:8080/"
        },
        "outputId": "e6621481-2d44-4f91-dc8d-67390817f52a"
      },
      "source": [
        "from sklearn.metrics import accuracy_score,confusion_matrix,precision_score,recall_score,f1_score,plot_confusion_matrix\n",
        "accuracy_score(y_test,y_pred)"
      ],
      "execution_count": 19,
      "outputs": [
        {
          "output_type": "execute_result",
          "data": {
            "text/plain": [
              "0.5870307167235495"
            ]
          },
          "metadata": {
            "tags": []
          },
          "execution_count": 19
        }
      ]
    },
    {
      "cell_type": "code",
      "metadata": {
        "id": "9DYmE3Badubf",
        "colab": {
          "base_uri": "https://localhost:8080/"
        },
        "outputId": "58e261f3-7296-4734-b2c3-faba1f304e2e"
      },
      "source": [
        "confusion_matrix(y_test,y_pred)"
      ],
      "execution_count": 20,
      "outputs": [
        {
          "output_type": "execute_result",
          "data": {
            "text/plain": [
              "array([[130, 172],\n",
              "       [ 70, 214]])"
            ]
          },
          "metadata": {
            "tags": []
          },
          "execution_count": 20
        }
      ]
    },
    {
      "cell_type": "code",
      "metadata": {
        "colab": {
          "base_uri": "https://localhost:8080/",
          "height": 297
        },
        "id": "tqNsMvXuJU_4",
        "outputId": "714c5682-702a-4f3d-e163-9df5629497de"
      },
      "source": [
        "plot_confusion_matrix(model,x_test,y_test)"
      ],
      "execution_count": 21,
      "outputs": [
        {
          "output_type": "execute_result",
          "data": {
            "text/plain": [
              "<sklearn.metrics._plot.confusion_matrix.ConfusionMatrixDisplay at 0x7fee24c4aa90>"
            ]
          },
          "metadata": {
            "tags": []
          },
          "execution_count": 21
        },
        {
          "output_type": "display_data",
          "data": {
            "image/png": "[encoded data removed]",
            "text/plain": [
              "<Figure size 432x288 with 2 Axes>"
            ]
          },
          "metadata": {
            "tags": [],
            "needs_background": "light"
          }
        }
      ]
    },
    {
      "cell_type": "code",
      "metadata": {
        "colab": {
          "base_uri": "https://localhost:8080/"
        },
        "id": "jQIZ-nBLIV6n",
        "outputId": "cc85bd85-f742-4c57-9aaf-298fe312f518"
      },
      "source": [
        "precision_score(y_test,y_pred)"
      ],
      "execution_count": 22,
      "outputs": [
        {
          "output_type": "execute_result",
          "data": {
            "text/plain": [
              "0.5544041450777202"
            ]
          },
          "metadata": {
            "tags": []
          },
          "execution_count": 22
        }
      ]
    },
    {
      "cell_type": "code",
      "metadata": {
        "colab": {
          "base_uri": "https://localhost:8080/"
        },
        "id": "mXqM4TzTIxrP",
        "outputId": "0e3d76ed-79c4-4b26-ef49-b1e70ee69a24"
      },
      "source": [
        "recall_score(y_test,y_pred)"
      ],
      "execution_count": 23,
      "outputs": [
        {
          "output_type": "execute_result",
          "data": {
            "text/plain": [
              "0.7535211267605634"
            ]
          },
          "metadata": {
            "tags": []
          },
          "execution_count": 23
        }
      ]
    },
    {
      "cell_type": "code",
      "metadata": {
        "colab": {
          "base_uri": "https://localhost:8080/"
        },
        "id": "liSNfQQ9I4nx",
        "outputId": "b543b5ca-7b96-4c90-fc48-f82df9573230"
      },
      "source": [
        "f1_score(y_test,y_pred)"
      ],
      "execution_count": 24,
      "outputs": [
        {
          "output_type": "execute_result",
          "data": {
            "text/plain": [
              "0.6388059701492538"
            ]
          },
          "metadata": {
            "tags": []
          },
          "execution_count": 24
        }
      ]
    }
  ]
}